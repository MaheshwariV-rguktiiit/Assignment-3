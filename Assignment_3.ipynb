{
  "nbformat": 4,
  "nbformat_minor": 0,
  "metadata": {
    "colab": {
      "name": "Assignment-3.ipynb",
      "provenance": [],
      "collapsed_sections": [],
      "include_colab_link": true
    },
    "kernelspec": {
      "name": "python3",
      "display_name": "Python 3"
    }
  },
  "cells": [
    {
      "cell_type": "markdown",
      "metadata": {
        "id": "view-in-github",
        "colab_type": "text"
      },
      "source": [
        "<a href=\"https://colab.research.google.com/github/MaheshwariV-rguktiiit/Assignment-3/blob/master/Assignment_3.ipynb\" target=\"_parent\"><img src=\"https://colab.research.google.com/assets/colab-badge.svg\" alt=\"Open In Colab\"/></a>"
      ]
    },
    {
      "cell_type": "markdown",
      "metadata": {
        "id": "5KHEQiMrmQRP",
        "colab_type": "text"
      },
      "source": [
        "### **Task 1:**"
      ]
    },
    {
      "cell_type": "markdown",
      "metadata": {
        "id": "kQ4jrSGsmayA",
        "colab_type": "text"
      },
      "source": [
        "1.Write a function to compute 5/0 and use try/except to catch the exceptions. "
      ]
    },
    {
      "cell_type": "code",
      "metadata": {
        "id": "9HLE7xywm0CG",
        "colab_type": "code",
        "outputId": "3517570e-583f-4901-fe46-1cdcdf64d802",
        "colab": {
          "base_uri": "https://localhost:8080/",
          "height": 134
        }
      },
      "source": [
        "\n",
        "def compute(a, b): \n",
        "\ttry: \n",
        "\t\tresult = a / b \n",
        "\t\tprint(\" Your answer is :\", result) \n",
        "\texcept ZeroDivisionError: \n",
        "\t\tprint(\"Sorry ! You are dividing by zero \") \n",
        "\n",
        "# Look at parameters and note the working of Program \n",
        "compute(5, 0)\n",
        "compute(3, 2)\n",
        "compute(6, 3)\n",
        "compute(4, 0)\n",
        "compute(7, 5)\n",
        "compute(345, 0)\n",
        "compute(0, 345)"
      ],
      "execution_count": 1,
      "outputs": [
        {
          "output_type": "stream",
          "text": [
            "Sorry ! You are dividing by zero \n",
            " Your answer is : 1.5\n",
            " Your answer is : 2.0\n",
            "Sorry ! You are dividing by zero \n",
            " Your answer is : 1.4\n",
            "Sorry ! You are dividing by zero \n",
            " Your answer is : 0.0\n"
          ],
          "name": "stdout"
        }
      ]
    },
    {
      "cell_type": "markdown",
      "metadata": {
        "id": "2x4bkhzZn4ID",
        "colab_type": "text"
      },
      "source": [
        "2.Implement a Python program to generate all sentences where subject is in [\"Americans\", \"Indians\"] and verb is in [\"Play\", \"watch\"] and the object is in [\"Baseball\",\"cricket\"]. \n",
        "\n",
        "Hint: Subject,Verb and Object should be declared in the program as shown below. \n",
        " \n",
        "subjects=[\"Americans \",\"Indians\"] verbs=[\"play\",\"watch\"] objects=[\"Baseball\",\"Cricket\"] \n",
        " "
      ]
    },
    {
      "cell_type": "code",
      "metadata": {
        "id": "6FSGmZ44oFIx",
        "colab_type": "code",
        "outputId": "bda01510-bde3-420d-c6df-1a56493b81d0",
        "colab": {
          "base_uri": "https://localhost:8080/",
          "height": 150
        }
      },
      "source": [
        "subjects = [\"Americans\",\"Indians\"]\n",
        "verbs = [\"play\",\"watch\"]\n",
        "objects = [\"baseball\",\"cricket\"]\n",
        "\n",
        "for l in subjects:\n",
        "    \n",
        "    for m in verbs:\n",
        "               \n",
        "        for n in objects:\n",
        "            print(l, m, n, end = \".\")\n",
        "            print()"
      ],
      "execution_count": 4,
      "outputs": [
        {
          "output_type": "stream",
          "text": [
            "Americans play baseball.\n",
            "Americans play cricket.\n",
            "Americans watch baseball.\n",
            "Americans watch cricket.\n",
            "Indians play baseball.\n",
            "Indians play cricket.\n",
            "Indians watch baseball.\n",
            "Indians watch cricket.\n"
          ],
          "name": "stdout"
        }
      ]
    },
    {
      "cell_type": "markdown",
      "metadata": {
        "id": "rNPih2P5oUu_",
        "colab_type": "text"
      },
      "source": [
        "### **Task 2 :**\n",
        " "
      ]
    },
    {
      "cell_type": "markdown",
      "metadata": {
        "id": "ipnjZy7uobNN",
        "colab_type": "text"
      },
      "source": [
        "1.Write a function so that the columns of the output matrix are powers of the input vector. The order of the powers is determined by the increasing boolean argument. Specifically, when increasing is False, the i-th output column is the input vector raised element-wise to the power of N - i - 1.  \n",
        " \n",
        " \n",
        "HINT: Such a matrix with a geometric progression in each row is named for Alexandre               Theophile Vandermonde. \n",
        " \n",
        " "
      ]
    },
    {
      "cell_type": "code",
      "metadata": {
        "id": "5-3Yl-ZSolUK",
        "colab_type": "code",
        "outputId": "4ef94d20-fb2c-4f3a-b958-a93df65eb6c8",
        "colab": {
          "base_uri": "https://localhost:8080/",
          "height": 485
        }
      },
      "source": [
        "import numpy as np\n",
        "x = np.array([1,2,3,4])\n",
        "N = 3\n",
        "print(np.vander(x,),\"\\n\")\n",
        "print(np.vander(x, increasing=True),\"\\n\")\n",
        "print(np.vander(x, N) , \"\\n\")\n",
        "print(np.vander(x,N, increasing = True), \"\\n\")\n",
        "print(np.column_stack([x**(N-i-1) for i in range(N)]), \"\\n\")\n",
        "#The determinant of a square Vandermonde matrix is the product of the differences between the values of the input vector:\n",
        "print(np.linalg.det(np.vander(x)),\"\\n\")\n",
        "print((4-3)*(4-2)*(4-1)*(3-2)*(3-1)*(2-1))"
      ],
      "execution_count": 11,
      "outputs": [
        {
          "output_type": "stream",
          "text": [
            "[[ 1  1  1  1]\n",
            " [ 8  4  2  1]\n",
            " [27  9  3  1]\n",
            " [64 16  4  1]] \n",
            "\n",
            "[[ 1  1  1  1]\n",
            " [ 1  2  4  8]\n",
            " [ 1  3  9 27]\n",
            " [ 1  4 16 64]] \n",
            "\n",
            "[[ 1  1  1]\n",
            " [ 4  2  1]\n",
            " [ 9  3  1]\n",
            " [16  4  1]] \n",
            "\n",
            "[[ 1  1  1]\n",
            " [ 1  2  4]\n",
            " [ 1  3  9]\n",
            " [ 1  4 16]] \n",
            "\n",
            "[[ 1  1  1]\n",
            " [ 4  2  1]\n",
            " [ 9  3  1]\n",
            " [16  4  1]] \n",
            "\n",
            "12.00000000000001 \n",
            "\n",
            "12\n"
          ],
          "name": "stdout"
        }
      ]
    }
  ]
}